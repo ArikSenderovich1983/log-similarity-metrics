{
 "cells": [
  {
   "cell_type": "code",
   "execution_count": 95,
   "id": "4e781a2e",
   "metadata": {},
   "outputs": [],
   "source": [
    "import numpy as np\n",
    "import pulp\n",
    "from collections import Counter\n",
    "\n",
    "def transform_Counter(C):\n",
    "    C = Counter(C)\n",
    "    for i in range(max(C)):\n",
    "        if i not in C:\n",
    "            C[i] = 0\n",
    "    return C\n",
    "    \n",
    "\n",
    "def earth_movers_distance(P, Q, mass_penalty=1):\n",
    "    P = transform_Counter(P)\n",
    "    Q = transform_Counter(Q)\n",
    "    m, n = len(P), len(Q)\n",
    "    c = np.zeros((m, n))\n",
    "\n",
    "    for i in range(m):\n",
    "        for j in range(n):\n",
    "            c[i][j] = abs(i-j)\n",
    "           \n",
    "    # Calculate total mass of P and Q\n",
    "    total_P = sum(P.values())\n",
    "    total_Q = sum(Q.values())\n",
    "    \n",
    "    model = pulp.LpProblem(\"EMD\", pulp.LpMinimize)\n",
    "    x = pulp.LpVariable.dicts(\"x\", [(i, j) for i in range(m) for j in range(n)], lowBound=0, cat=\"Continuous\")\n",
    "    for i in range(m):\n",
    "        model += pulp.lpSum([x[(i, j)] for j in range(n)]) <= P[i]\n",
    "    for j in range(n):\n",
    "        model += pulp.lpSum([x[(i, j)] for i in range(m)]) <= Q[j]\n",
    "        \n",
    "    model+=pulp.lpSum([x[(i, j)] for j in range(n) for i in range(m) ]) == min(total_P, total_Q)\n",
    "    \n",
    "    model += pulp.lpSum([c[i][j] * x[(i, j)] for i in range(m) for j in range(n)])\n",
    "    model.solve()\n",
    "    print(\"\\ndistance: {}\".format(pulp.value(model.objective)))\n",
    "    #for v in model.variables():\n",
    "    #    print(v.name, \"=\", v.value())\n",
    "    print(\"total_P: {}\".format(total_P))\n",
    "    print(\"total_Q: {}\".format(total_Q))\n",
    "    return pulp.value(model.objective) + abs(total_P - total_Q) * mass_penalty\n"
   ]
  },
  {
   "cell_type": "code",
   "execution_count": 96,
   "id": "f4136d36",
   "metadata": {},
   "outputs": [],
   "source": [
    "def test_earth_movers_distance():\n",
    "    # Similar histograms\n",
    "    assert earth_movers_distance([1, 1, 2, 2, 3, 4, 5, 5, 6, 7, 8], [2, 4, 5, 3, 5, 1, 2, 6, 1, 7, 8]) == 0\n",
    "    # Histograms with only forward movements\n",
    "    assert earth_movers_distance([1, 1, 1, 3, 4, 4, 6], [1, 1, 1, 1, 3, 3, 4]) == 6\n",
    "    assert earth_movers_distance([1, 1, 3, 3, 6, 6, 7], [1, 1, 2, 3, 4, 4, 5]) == 7\n",
    "    # Histograms with forward/backward movements\n",
    "    assert earth_movers_distance([1, 1, 1, 3, 4, 4, 6], [1, 1, 1, 1, 3, 8, 8]) == 9\n",
    "    assert earth_movers_distance([1, 1, 3, 3, 3, 4, 7, 9], [1, 2, 2, 3, 3, 4, 8, 12]) == 6\n",
    "    # Histograms with extra mass\n",
    "    assert earth_movers_distance([1, 1, 1, 3, 3, 3, 5, 5, 5], [1, 1, 1, 3, 3, 3, 5, 5, 5, 6]) == 1\n",
    "    assert earth_movers_distance([1, 1, 1, 3, 3, 3, 5, 5, 5], [1, 1, 1, 3, 3, 3, 4, 5, 5, 5]) == 1\n",
    "    assert earth_movers_distance([1, 1, 1, 1, 2, 2, 2, 2, 3, 3, 3, 3, 4, 4, 4, 4], [1, 2, 3, 4]) == 12\n",
    "    assert earth_movers_distance([1, 1, 1, 2, 4, 4, 5, 5, 5, 6, 6], [12, 12, 13, 14, 14, 14, 15, 16, 16, 16, 17]) == 119\n",
    "    assert earth_movers_distance([1, 1, 1, 2, 4, 4, 5, 5, 5, 6, 6], [12, 12, 13, 14, 14, 14, 15, 16, 16, 16]) == 104\n"
   ]
  },
  {
   "cell_type": "code",
   "execution_count": 97,
   "id": "82882af4",
   "metadata": {},
   "outputs": [
    {
     "name": "stdout",
     "output_type": "stream",
     "text": [
      "\n",
      "distance: 0.0\n",
      "total_P: 11\n",
      "total_Q: 11\n",
      "\n",
      "distance: 6.0\n",
      "total_P: 7\n",
      "total_Q: 7\n",
      "\n",
      "distance: 7.0\n",
      "total_P: 7\n",
      "total_Q: 7\n",
      "\n",
      "distance: 9.0\n",
      "total_P: 7\n",
      "total_Q: 7\n",
      "\n",
      "distance: 6.0\n",
      "total_P: 8\n",
      "total_Q: 8\n",
      "\n",
      "distance: 0.0\n",
      "total_P: 9\n",
      "total_Q: 10\n",
      "\n",
      "distance: 0.0\n",
      "total_P: 9\n",
      "total_Q: 10\n",
      "\n",
      "distance: 0.0\n",
      "total_P: 16\n",
      "total_Q: 4\n",
      "\n",
      "distance: 119.0\n",
      "total_P: 11\n",
      "total_Q: 11\n",
      "\n",
      "distance: 103.0\n",
      "total_P: 11\n",
      "total_Q: 10\n"
     ]
    }
   ],
   "source": [
    "test_earth_movers_distance()"
   ]
  },
  {
   "cell_type": "code",
   "execution_count": 94,
   "id": "734b0ba9",
   "metadata": {},
   "outputs": [
    {
     "name": "stdout",
     "output_type": "stream",
     "text": [
      "\n",
      "distance: 6.0\n",
      "x_(0,_0) = 0.0\n",
      "x_(0,_1) = 0.0\n",
      "x_(0,_2) = 0.0\n",
      "x_(0,_3) = 0.0\n",
      "x_(0,_4) = 0.0\n",
      "x_(1,_0) = 0.0\n",
      "x_(1,_1) = 3.0\n",
      "x_(1,_2) = 0.0\n",
      "x_(1,_3) = 0.0\n",
      "x_(1,_4) = 0.0\n",
      "x_(2,_0) = 0.0\n",
      "x_(2,_1) = 0.0\n",
      "x_(2,_2) = 0.0\n",
      "x_(2,_3) = 0.0\n",
      "x_(2,_4) = 0.0\n",
      "x_(3,_0) = 0.0\n",
      "x_(3,_1) = 1.0\n",
      "x_(3,_2) = 0.0\n",
      "x_(3,_3) = 0.0\n",
      "x_(3,_4) = 0.0\n",
      "x_(4,_0) = 0.0\n",
      "x_(4,_1) = 0.0\n",
      "x_(4,_2) = 0.0\n",
      "x_(4,_3) = 1.0\n",
      "x_(4,_4) = 1.0\n",
      "x_(5,_0) = 0.0\n",
      "x_(5,_1) = 0.0\n",
      "x_(5,_2) = 0.0\n",
      "x_(5,_3) = 0.0\n",
      "x_(5,_4) = 0.0\n",
      "x_(6,_0) = 0.0\n",
      "x_(6,_1) = 0.0\n",
      "x_(6,_2) = 0.0\n",
      "x_(6,_3) = 1.0\n",
      "x_(6,_4) = 0.0\n",
      "total_P: 7\n",
      "total_Q: 7\n"
     ]
    },
    {
     "data": {
      "text/plain": [
       "6.0"
      ]
     },
     "execution_count": 94,
     "metadata": {},
     "output_type": "execute_result"
    }
   ],
   "source": [
    "earth_movers_distance([1, 1, 1, 3, 4, 4, 6], [1, 1, 1, 1, 3, 3, 4])"
   ]
  },
  {
   "cell_type": "code",
   "execution_count": null,
   "id": "c5abd800",
   "metadata": {},
   "outputs": [],
   "source": [
    "[1, 2, 2, 1] = [1, 2, 3, 1]"
   ]
  }
 ],
 "metadata": {
  "kernelspec": {
   "display_name": "Python 3 (ipykernel)",
   "language": "python",
   "name": "python3"
  },
  "language_info": {
   "codemirror_mode": {
    "name": "ipython",
    "version": 3
   },
   "file_extension": ".py",
   "mimetype": "text/x-python",
   "name": "python",
   "nbconvert_exporter": "python",
   "pygments_lexer": "ipython3",
   "version": "3.8.0"
  }
 },
 "nbformat": 4,
 "nbformat_minor": 5
}
